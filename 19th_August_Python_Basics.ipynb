{
 "cells": [
  {
   "cell_type": "code",
   "execution_count": 14,
   "id": "6ee9588c-e268-4ab3-97cb-7baaf6748043",
   "metadata": {},
   "outputs": [
    {
     "name": "stdout",
     "output_type": "stream",
     "text": [
      "x= 6 , y= 5\n"
     ]
    }
   ],
   "source": [
    "\"\"\"1.Declare two variables, `x` and `y`, and assign them integer values. Swap the\n",
    "values of these variables without using any temporary variable.\"\"\"\n",
    "\n",
    "x=5 #declaring x and assigning value\n",
    "y=6 #declaring y and assigning value\n",
    "x,y=y,x #swapping logic\n",
    "print(\"x=\",x,\", y=\",y)"
   ]
  },
  {
   "cell_type": "code",
   "execution_count": 15,
   "id": "78632605-7e61-45d1-8ae6-e11ed2dbcaf6",
   "metadata": {},
   "outputs": [
    {
     "name": "stdin",
     "output_type": "stream",
     "text": [
      "Enter the length of the rectangle 5\n",
      "Enter the width of the rectangle 4\n"
     ]
    },
    {
     "name": "stdout",
     "output_type": "stream",
     "text": [
      "Area of Rectangle =  20\n"
     ]
    }
   ],
   "source": [
    "\"\"\"2.Create a program that calculates the area of a rectangle. Take the length and\n",
    "width as inputs from the user and store them in variables. Calculate and\n",
    "display the area.\"\"\"\n",
    "\n",
    "length = int(input(\"Enter the length of the rectangle\"))\n",
    "width = int(input(\"Enter the width of the rectangle\"))\n",
    "areaOfRectangle = width * length\n",
    "print(\"Area of Rectangle = \",areaOfRectangle)"
   ]
  },
  {
   "cell_type": "code",
   "execution_count": 17,
   "id": "9659ad1b-e130-47a0-a486-6256d94b70c7",
   "metadata": {},
   "outputs": [
    {
     "name": "stdin",
     "output_type": "stream",
     "text": [
      "Enter the temparature in celsius 38\n"
     ]
    },
    {
     "name": "stdout",
     "output_type": "stream",
     "text": [
      "converted fahrenheit temparature = 100.4\n"
     ]
    }
   ],
   "source": [
    "\"\"\"3. Write a Python program that converts temperatures from Celsius to\n",
    "Fahrenheit. Take the temperature in Celsius as input, store it in a variable,\n",
    "convert it to Fahrenheit, and display the result.\"\"\"\n",
    "\n",
    "celsius = float(input(\"Enter the temparature in celsius\"))\n",
    "fahrenheit = celsius*(9/5)+32\n",
    "print(\"converted fahrenheit temparature =\",fahrenheit)"
   ]
  },
  {
   "cell_type": "raw",
   "id": "33897282-c531-4cc8-b757-08b79b11b984",
   "metadata": {},
   "source": [
    "String Based Questions"
   ]
  },
  {
   "cell_type": "code",
   "execution_count": 17,
   "id": "e1b2226b-5c4e-44ee-a7a3-163e8d51f86d",
   "metadata": {},
   "outputs": [
    {
     "name": "stdin",
     "output_type": "stream",
     "text": [
      "Enter a string hello\n"
     ]
    },
    {
     "name": "stdout",
     "output_type": "stream",
     "text": [
      "length of the string =  5\n"
     ]
    }
   ],
   "source": [
    "\"\"\"1. Write a Python program that takes a string as input and prints the length of\n",
    "the string.\"\"\"\n",
    "\n",
    "inputString = input(\"Enter a string\")\n",
    "print(\"length of the string = \",len(inputString))"
   ]
  },
  {
   "cell_type": "code",
   "execution_count": 11,
   "id": "e5d94beb-2f49-4eb8-9406-9c7df4fd981f",
   "metadata": {},
   "outputs": [
    {
     "name": "stdin",
     "output_type": "stream",
     "text": [
      "Enter a sentence hello\n"
     ]
    },
    {
     "name": "stdout",
     "output_type": "stream",
     "text": [
      "Total vowels count = 2\n"
     ]
    }
   ],
   "source": [
    "\"\"\"2. Create a program that takes a sentence from the user and counts the number\n",
    "of vowels (a, e, i, o, u) in the string.\"\"\"\n",
    "\n",
    "inputString = input(\"Enter a sentence\")\n",
    "vowels = [\"a\",\"e\",\"i\",\"o\",\"u\"]\n",
    "count=0\n",
    "for character in inputString:\n",
    "    if (character.lower()) in vowels:\n",
    "        count+=1\n",
    "print(\"Total vowels count =\",count)"
   ]
  },
  {
   "cell_type": "code",
   "execution_count": 5,
   "id": "4b451f8d-3375-43a2-b9de-2f116726c7c5",
   "metadata": {},
   "outputs": [
    {
     "name": "stdin",
     "output_type": "stream",
     "text": [
      "Enter a string hello\n"
     ]
    },
    {
     "name": "stdout",
     "output_type": "stream",
     "text": [
      "Reversed string is = olleh\n"
     ]
    }
   ],
   "source": [
    "\"\"\"3. Given a string, reverse the order of characters using string slicing and print\n",
    "the reversed string.\"\"\"\n",
    "\n",
    "inputString = input(\"Enter a string\")\n",
    "print(\"Reversed string is =\",inputString[::-1])"
   ]
  },
  {
   "cell_type": "code",
   "execution_count": 12,
   "id": "ca0ddd0b-c881-4631-bbe5-47334814a40b",
   "metadata": {},
   "outputs": [
    {
     "name": "stdin",
     "output_type": "stream",
     "text": [
      "Enter a string malayalam\n"
     ]
    },
    {
     "name": "stdout",
     "output_type": "stream",
     "text": [
      "it is a palindrome\n"
     ]
    }
   ],
   "source": [
    "\"\"\"4. Write a program that takes a string as input and checks if it is a palindrome\n",
    "(reads the same forwards and backwards).\"\"\"\n",
    "\n",
    "inputString = input(\"Enter a string\")\n",
    "reverseString = inputString[::-1]\n",
    "if inputString.lower() == reverseString.lower():\n",
    "    print(\"it is a palindrome\");\n",
    "else:\n",
    "   print(\"it is not a palindrome\"); "
   ]
  },
  {
   "cell_type": "code",
   "execution_count": 7,
   "id": "00d08421-72c5-4599-9437-1a3ad582134c",
   "metadata": {},
   "outputs": [
    {
     "name": "stdin",
     "output_type": "stream",
     "text": [
      "Enter a string hello world\n"
     ]
    },
    {
     "name": "stdout",
     "output_type": "stream",
     "text": [
      "Input string after space removed = helloworld\n"
     ]
    }
   ],
   "source": [
    "\"\"\"5. Create a program that takes a string as input and removes all the spaces from\n",
    "it. Print the modified string without spaces.\"\"\"\n",
    "\n",
    "inputString = input(\"Enter a string\")\n",
    "inputString = inputString.replace(\" \",\"\")\n",
    "print(\"Input string after space removed =\",inputString); "
   ]
  }
 ],
 "metadata": {
  "kernelspec": {
   "display_name": "Python 3 (ipykernel)",
   "language": "python",
   "name": "python3"
  },
  "language_info": {
   "codemirror_mode": {
    "name": "ipython",
    "version": 3
   },
   "file_extension": ".py",
   "mimetype": "text/x-python",
   "name": "python",
   "nbconvert_exporter": "python",
   "pygments_lexer": "ipython3",
   "version": "3.10.8"
  }
 },
 "nbformat": 4,
 "nbformat_minor": 5
}
